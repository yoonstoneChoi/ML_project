{
 "metadata": {
  "language_info": {
   "codemirror_mode": {
    "name": "ipython",
    "version": 3
   },
   "file_extension": ".py",
   "mimetype": "text/x-python",
   "name": "python",
   "nbconvert_exporter": "python",
   "pygments_lexer": "ipython3",
   "version": "3.7.4"
  },
  "orig_nbformat": 2,
  "kernelspec": {
   "name": "python374jvsc74a57bd0aad7fa43305c5ed1fb127d263f3083b3588cd5af60f171b45496a79879bf8414",
   "display_name": "Python 3.7.4 64-bit ('base': conda)"
  }
 },
 "nbformat": 4,
 "nbformat_minor": 2,
 "cells": [
  {
   "cell_type": "code",
   "execution_count": 160,
   "metadata": {},
   "outputs": [],
   "source": [
    "from selenium import webdriver\n",
    "from bs4 import BeautifulSoup\n",
    "import pandas as pd \n",
    "import numpy as np"
   ]
  },
  {
   "cell_type": "code",
   "execution_count": 161,
   "metadata": {},
   "outputs": [],
   "source": [
    "chrome_loc='C:\\pywork\\data_course\\chromedriver\\chromedriver.exe'\n",
    "driver1=webdriver.Chrome(chrome_loc)"
   ]
  },
  {
   "cell_type": "code",
   "execution_count": 162,
   "metadata": {},
   "outputs": [],
   "source": [
    "url_target=\"https://www.starbucks.co.kr/store/store_map.do\"\n",
    "driver1.get(url_target)"
   ]
  },
  {
   "cell_type": "code",
   "execution_count": 6,
   "metadata": {},
   "outputs": [],
   "source": [
    "driver1.find_element_by_css_selector('#container > div > form > fieldset > div > section > article.find_store_cont > article > article:nth-child(4) > div.loca_step1 > div.loca_step1_cont > ul > li:nth-child(1) > a').click()"
   ]
  },
  {
   "cell_type": "code",
   "execution_count": 7,
   "metadata": {},
   "outputs": [],
   "source": [
    "all_button = '#mCSB_2_container > ul > li:nth-child(1) > a'"
   ]
  },
  {
   "cell_type": "code",
   "execution_count": 8,
   "metadata": {},
   "outputs": [],
   "source": [
    "driver1.find_element_by_css_selector(all_button).click()"
   ]
  },
  {
   "cell_type": "code",
   "execution_count": 9,
   "metadata": {},
   "outputs": [],
   "source": [
    "sb_html=driver1.page_source"
   ]
  },
  {
   "cell_type": "code",
   "execution_count": 10,
   "metadata": {},
   "outputs": [],
   "source": [
    "soup=BeautifulSoup(sb_html,'html.parser') ## 위에서 경로 지정하고, 숩으로 파싱싱"
   ]
  },
  {
   "cell_type": "code",
   "execution_count": 158,
   "metadata": {},
   "outputs": [],
   "source": [
    "data=soup.select('li.quickResultLstCon')"
   ]
  },
  {
   "cell_type": "code",
   "execution_count": 159,
   "metadata": {},
   "outputs": [
    {
     "output_type": "execute_result",
     "data": {
      "text/plain": [
       "562"
      ]
     },
     "metadata": {},
     "execution_count": 159
    }
   ],
   "source": [
    "len(data)"
   ]
  },
  {
   "cell_type": "code",
   "execution_count": 153,
   "metadata": {},
   "outputs": [
    {
     "output_type": "execute_result",
     "data": {
      "text/plain": [
       "<strong data-my_siren_order_store_yn=\"N\" data-name=\"가산브이타워\" data-store=\"364\" data-yn=\"N\">가산브이타워  </strong>"
      ]
     },
     "metadata": {},
     "execution_count": 153
    }
   ],
   "source": [
    "data[0].select('strong')[0]\n"
   ]
  },
  {
   "cell_type": "code",
   "execution_count": 156,
   "metadata": {},
   "outputs": [],
   "source": [
    "data[0].string"
   ]
  },
  {
   "cell_type": "code",
   "execution_count": 141,
   "metadata": {},
   "outputs": [],
   "source": [
    "sb_name = [data[i].select('strong')[0].text for i in  range(len(data))]"
   ]
  },
  {
   "cell_type": "code",
   "execution_count": 150,
   "metadata": {},
   "outputs": [
    {
     "output_type": "execute_result",
     "data": {
      "text/plain": [
       "'서울특별시 금천구 벚꽃로 298 (가산동)1522-3232'"
      ]
     },
     "metadata": {},
     "execution_count": 150
    }
   ],
   "source": [
    "data[6].find('p').text"
   ]
  },
  {
   "cell_type": "code",
   "execution_count": null,
   "metadata": {},
   "outputs": [],
   "source": [
    "[data[6].find('p').text for i in range(len(data))]"
   ]
  },
  {
   "cell_type": "code",
   "execution_count": 91,
   "metadata": {},
   "outputs": [
    {
     "output_type": "execute_result",
     "data": {
      "text/plain": [
       "'리저브 매장 2번'"
      ]
     },
     "metadata": {},
     "execution_count": 91
    }
   ],
   "source": [
    "data[0].select('i.pin_general')[0].text"
   ]
  },
  {
   "cell_type": "code",
   "execution_count": 122,
   "metadata": {},
   "outputs": [
    {
     "output_type": "execute_result",
     "data": {
      "text/plain": [
       "'리저브 매장 2번'"
      ]
     },
     "metadata": {},
     "execution_count": 122
    }
   ],
   "source": [
    "data[0].select('i')[0].string"
   ]
  },
  {
   "cell_type": "code",
   "execution_count": 145,
   "metadata": {},
   "outputs": [],
   "source": [
    "df_sb.drop('name', axis = 1, inplace=True)"
   ]
  },
  {
   "cell_type": "code",
   "execution_count": 126,
   "metadata": {},
   "outputs": [],
   "source": [
    "sb_type = [data[i].select('i')[0].string for i in range(len(data))]"
   ]
  },
  {
   "cell_type": "code",
   "execution_count": 104,
   "metadata": {},
   "outputs": [],
   "source": [
    "df_sb = pd.DataFrame(np.array(data_lat), columns = ['data_lat'])"
   ]
  },
  {
   "cell_type": "code",
   "execution_count": 114,
   "metadata": {},
   "outputs": [],
   "source": [
    "df_sb['data_long'] = data_long"
   ]
  },
  {
   "cell_type": "code",
   "execution_count": 129,
   "metadata": {},
   "outputs": [],
   "source": [
    "df_sb['type'] = sb_type"
   ]
  },
  {
   "source": [
    "df_sb['name'] = sb_name"
   ],
   "cell_type": "code",
   "metadata": {},
   "execution_count": 146,
   "outputs": []
  },
  {
   "cell_type": "code",
   "execution_count": 147,
   "metadata": {},
   "outputs": [
    {
     "output_type": "execute_result",
     "data": {
      "text/plain": [
       "              data_lat           data_long       type      name\n",
       "0            37.477221          126.883683  리저브 매장 2번  가산브이타워  \n",
       "1           37.4798346  126.88249969999992  리저브 매장 2번   가산디지털  \n",
       "2            37.478701          126.885076  리저브 매장 2번  마리오아울렛  \n",
       "3           37.4739663  126.86935070000004  리저브 매장 2번   철산로데오  \n",
       "4          37.48061318         126.8805702  리저브 매장 2번  가산에스케이  \n",
       "..                 ...                 ...        ...       ...\n",
       "557          37.579594          127.087966  리저브 매장 2번    사가정역  \n",
       "558           37.59689           127.08647  리저브 매장 2번     상봉역  \n",
       "559          37.613433          127.077484  리저브 매장 2번   묵동이마트  \n",
       "560          37.615368          127.076633  리저브 매장 2번      묵동  \n",
       "561  37.60170912407773  127.07841136432036  리저브 매장 2번     중화역  \n",
       "\n",
       "[562 rows x 4 columns]"
      ],
      "text/html": "<div>\n<style scoped>\n    .dataframe tbody tr th:only-of-type {\n        vertical-align: middle;\n    }\n\n    .dataframe tbody tr th {\n        vertical-align: top;\n    }\n\n    .dataframe thead th {\n        text-align: right;\n    }\n</style>\n<table border=\"1\" class=\"dataframe\">\n  <thead>\n    <tr style=\"text-align: right;\">\n      <th></th>\n      <th>data_lat</th>\n      <th>data_long</th>\n      <th>type</th>\n      <th>name</th>\n    </tr>\n  </thead>\n  <tbody>\n    <tr>\n      <td>0</td>\n      <td>37.477221</td>\n      <td>126.883683</td>\n      <td>리저브 매장 2번</td>\n      <td>가산브이타워</td>\n    </tr>\n    <tr>\n      <td>1</td>\n      <td>37.4798346</td>\n      <td>126.88249969999992</td>\n      <td>리저브 매장 2번</td>\n      <td>가산디지털</td>\n    </tr>\n    <tr>\n      <td>2</td>\n      <td>37.478701</td>\n      <td>126.885076</td>\n      <td>리저브 매장 2번</td>\n      <td>마리오아울렛</td>\n    </tr>\n    <tr>\n      <td>3</td>\n      <td>37.4739663</td>\n      <td>126.86935070000004</td>\n      <td>리저브 매장 2번</td>\n      <td>철산로데오</td>\n    </tr>\n    <tr>\n      <td>4</td>\n      <td>37.48061318</td>\n      <td>126.8805702</td>\n      <td>리저브 매장 2번</td>\n      <td>가산에스케이</td>\n    </tr>\n    <tr>\n      <td>...</td>\n      <td>...</td>\n      <td>...</td>\n      <td>...</td>\n      <td>...</td>\n    </tr>\n    <tr>\n      <td>557</td>\n      <td>37.579594</td>\n      <td>127.087966</td>\n      <td>리저브 매장 2번</td>\n      <td>사가정역</td>\n    </tr>\n    <tr>\n      <td>558</td>\n      <td>37.59689</td>\n      <td>127.08647</td>\n      <td>리저브 매장 2번</td>\n      <td>상봉역</td>\n    </tr>\n    <tr>\n      <td>559</td>\n      <td>37.613433</td>\n      <td>127.077484</td>\n      <td>리저브 매장 2번</td>\n      <td>묵동이마트</td>\n    </tr>\n    <tr>\n      <td>560</td>\n      <td>37.615368</td>\n      <td>127.076633</td>\n      <td>리저브 매장 2번</td>\n      <td>묵동</td>\n    </tr>\n    <tr>\n      <td>561</td>\n      <td>37.60170912407773</td>\n      <td>127.07841136432036</td>\n      <td>리저브 매장 2번</td>\n      <td>중화역</td>\n    </tr>\n  </tbody>\n</table>\n<p>562 rows × 4 columns</p>\n</div>"
     },
     "metadata": {},
     "execution_count": 147
    }
   ],
   "source": [
    "df_sb"
   ]
  },
  {
   "cell_type": "code",
   "execution_count": 98,
   "metadata": {},
   "outputs": [],
   "source": [
    "data_lat = [data[i]['data-lat'] for i in range(len(data))]"
   ]
  },
  {
   "cell_type": "code",
   "execution_count": 97,
   "metadata": {},
   "outputs": [],
   "source": [
    "data_long = [data[i]['data-long'] for i in range(len(data))]"
   ]
  },
  {
   "cell_type": "code",
   "execution_count": 49,
   "metadata": {},
   "outputs": [
    {
     "output_type": "execute_result",
     "data": {
      "text/plain": [
       "[]"
      ]
     },
     "metadata": {},
     "execution_count": 49
    }
   ],
   "source": [
    "data[0].select('3936')"
   ]
  },
  {
   "cell_type": "code",
   "execution_count": null,
   "metadata": {},
   "outputs": [],
   "source": [
    "## 크롬 개발자 모드 -> 필요한 위치 우클릭 -> copy -> select\n",
    "\n",
    "#container > div > form > fieldset > div > section > article.find_store_cont > article > article:nth-child(4) > div.loca_step1 > div.loca_step1_cont > ul > li:nth-child(1) > a"
   ]
  }
 ]
}