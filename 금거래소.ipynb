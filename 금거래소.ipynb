{
 "metadata": {
  "language_info": {
   "codemirror_mode": {
    "name": "ipython",
    "version": 3
   },
   "file_extension": ".py",
   "mimetype": "text/x-python",
   "name": "python",
   "nbconvert_exporter": "python",
   "pygments_lexer": "ipython3",
   "version": "3.7.4"
  },
  "orig_nbformat": 2,
  "kernelspec": {
   "name": "python374jvsc74a57bd0aad7fa43305c5ed1fb127d263f3083b3588cd5af60f171b45496a79879bf8414",
   "display_name": "Python 3.7.4 64-bit ('base': conda)"
  }
 },
 "nbformat": 4,
 "nbformat_minor": 2,
 "cells": [
  {
   "cell_type": "code",
   "execution_count": 9,
   "metadata": {},
   "outputs": [],
   "source": [
    "import requests\n",
    "from selenium import webdriver\n",
    "from bs4 import BeautifulSoup\n",
    "\n",
    "import pandas as pd \n",
    "import numpy as np \n",
    "\n",
    "import time\n",
    "from datetime import datetime\n",
    "\n",
    "import matplotlib.pyplot as plt "
   ]
  },
  {
   "source": [
    "한국금거래소는 post 방식으로, 클라이언트의 요청에 응답하므로, \n",
    "\n",
    "금거래소는 post 방식으로, 클라이언트의 요청에 응답하므로, \n",
    "\n",
    "먼저 리쿼스트 모듈을 이용하여, head 정보 및 data params를 함께 전달하여 페이지 소스 획득이 가능한지 확인한다"
   ],
   "cell_type": "markdown",
   "metadata": {}
  },
  {
   "source": [
    "지금 금 시세 들어가면 3개월만 보여주니까\n",
    "\n",
    "셀리니움이 1. 전체클릭하도록 해줘야하고\n",
    "\n",
    "2. 2번 페이지 클릭하고 데이터 수집하고, 3번 클릭, 수집 \n",
    "\n",
    "3. 그렇게 쭉/~~ 4천개 한 다음에 \n",
    "\n",
    "4. 데이터프레임\n",
    "\n",
    "5. 살때 팔때 daily gold price fluctuation 으로 시각화 하기"
   ],
   "cell_type": "markdown",
   "metadata": {}
  },
  {
   "cell_type": "code",
   "execution_count": null,
   "metadata": {},
   "outputs": [],
   "source": [
    "tabulator-table"
   ]
  },
  {
   "cell_type": "code",
   "execution_count": null,
   "metadata": {},
   "outputs": [],
   "source": [
    "## post와 get방식을 구분할줄 알아야한다. \n",
    "## url 자체에 모든 정보를 받는다 -> get 방식 / 링크 주소가 계속 바뀐다\n",
    "## url에 정보가 다른곳에서 받아오는 것들도 잇따. post 방식"
   ]
  },
  {
   "cell_type": "code",
   "execution_count": 3,
   "metadata": {},
   "outputs": [],
   "source": [
    "golden_url = 'https://www.koreagoldx.co.kr/main/html.php?agencyCode=&htmid=goods/gold_list.html'"
   ]
  },
  {
   "cell_type": "code",
   "execution_count": 6,
   "metadata": {},
   "outputs": [],
   "source": [
    "header = {'User-Agent':'Mozilla/5.0'}"
   ]
  },
  {
   "cell_type": "code",
   "execution_count": 5,
   "metadata": {},
   "outputs": [],
   "source": [
    "payload = {'srchDt': \"ALL\", 'type': \"Au\", 'dataDateStart': \"2021.03.09\", 'dataDateEnd': \"2021.06.09\"}\n"
   ]
  },
  {
   "cell_type": "code",
   "execution_count": 8,
   "metadata": {},
   "outputs": [],
   "source": [
    "rr= requests.post(golden_url, headers=header, data = payload)"
   ]
  },
  {
   "cell_type": "code",
   "execution_count": 10,
   "metadata": {},
   "outputs": [],
   "source": [
    "soup_test = BeautifulSoup(rr.content, 'html.parser')"
   ]
  },
  {
   "source": [
    "안되는 것을 알았으니, 셀레늄으로 바로 하자!"
   ],
   "cell_type": "markdown",
   "metadata": {}
  },
  {
   "cell_type": "code",
   "execution_count": null,
   "metadata": {},
   "outputs": [],
   "source": []
  }
 ]
}